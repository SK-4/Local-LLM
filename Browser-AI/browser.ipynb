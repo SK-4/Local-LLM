{
 "cells": [
  {
   "cell_type": "code",
   "execution_count": null,
   "metadata": {},
   "outputs": [
    {
     "name": "stdout",
     "output_type": "stream",
     "text": [
      "INFO     [browser_use] BrowserUse logging setup complete with level info\n",
      "INFO     [root] Anonymized telemetry enabled. See https://github.com/browser-use/browser-use for more information.\n",
      "INFO     [agent] 🚀 Starting task: Go to Swiggy and change the location\n",
      "INFO     [agent] \n",
      "📍 Step 1\n",
      "INFO     [agent] 🤷 Eval: Unknown - Empty page, unable to make any site-specific progress.\n",
      "INFO     [agent] 🧠 Memory: Starting point, need to navigate to Swiggy.\n",
      "INFO     [agent] 🎯 Next goal: Open Swiggy website.\n",
      "INFO     [agent] 🛠️  Action 1/1: {\"open_tab\":{\"url\":\"https://www.swiggy.com\"}}\n",
      "ERROR    [agent] ❌ Result failed 1/3 times:\n",
      " Error executing action open_tab: Page.goto: Timeout 30000ms exceeded.\n",
      "Call log:\n",
      "  - navigating to \"https://www.swiggy.com/\", waiting until \"load\"\n",
      "\n",
      "INFO     [agent] \n",
      "📍 Step 2\n",
      "INFO     [agent] ⚠ Eval: Failed - Couldn't open Swiggy initially but am now on the Swiggy page.\n",
      "INFO     [agent] 🧠 Memory: Navigated to Swiggy, need to change location.\n",
      "INFO     [agent] 🎯 Next goal: Input location to change location on Swiggy.\n",
      "INFO     [agent] 🛠️  Action 1/1: {\"input_text\":{\"index\":6,\"text\":\"Bangalore\"}}\n",
      "ERROR    [agent] ❌ Result failed 2/3 times:\n",
      " Error executing action input_text: Failed to input text into element: <input type=\"text\" class=\"_5ZhdF _3GoNS _1LZf8\" value=\"\" name=\"location\" id=\"location\" autocomplete=\"off\" tabindex=\"1\" placeholder=\"Enter your delivery location\" maxlength=\"30\"> [interactive, top, highlight:6]. Error: Element: <input type=\"text\" class=\"_5ZhdF _3GoNS _1LZf8\" value=\"\" name=\"location\" id=\"location\" autocomplete=\"off\" tabindex=\"1\" placeholder=\"Enter your delivery location\" maxlength=\"30\"> [interactive, top, highlight:6] not found\n",
      "INFO     [agent] \n",
      "📍 Step 3\n",
      "INFO     [agent] ⚠ Eval: Failed - Could not input text in the location field.\n",
      "INFO     [agent] 🧠 Memory: Attempting to change location on Swiggy.\n",
      "INFO     [agent] 🎯 Next goal: Select the location input field, then enter the location.\n",
      "INFO     [agent] 🛠️  Action 1/2: {\"click_element\":{\"index\":14}}\n",
      "INFO     [agent] 🛠️  Action 2/2: {\"input_text\":{\"index\":14,\"text\":\"Bangalore\"}}\n",
      "INFO     [controller] 🖱️  Clicked button with index 14: \n",
      "INFO     [controller] ⌨️  Input \"Bangalore\" into index 14\n",
      "INFO     [agent] \n",
      "📍 Step 4\n",
      "INFO     [agent] 👍 Eval: Success - Successfully input location data.\n",
      "INFO     [agent] 🧠 Memory: Entered the location as Bangalore on Swiggy.\n",
      "INFO     [agent] 🎯 Next goal: Confirm the location change by selecting the provided suggestion.\n",
      "INFO     [agent] 🛠️  Action 1/1: {\"click_element\":{\"index\":17}}\n",
      "INFO     [controller] 🖱️  Clicked button with index 17: \n",
      "INFO     [agent] \n",
      "📍 Step 5\n",
      "INFO     [agent] 👍 Eval: Success - Confirmed the location change on Swiggy to Bengaluru, Karnataka, India.\n",
      "INFO     [agent] 🧠 Memory: Location successfully changed on Swiggy.\n",
      "INFO     [agent] 🎯 Next goal: Finalize the task as the location has been changed.\n",
      "INFO     [agent] 🛠️  Action 1/1: {\"done\":{\"text\":\"The location on Swiggy has been successfully changed to Bengaluru, Karnataka, India.\"}}\n",
      "INFO     [agent] 📄 Result: The location on Swiggy has been successfully changed to Bengaluru, Karnataka, India.\n",
      "INFO     [agent] ✅ Task completed successfully\n",
      "INFO     [agent] Created GIF at agent_history.gif\n",
      "The location on Swiggy has been successfully changed to Bengaluru, Karnataka, India.\n"
     ]
    }
   ],
   "source": [
    "from langchain_openai import ChatOpenAI\n",
    "from browser_use import Agent\n",
    "import asyncio\n",
    "import nest_asyncio\n",
    "import logging\n",
    "\n",
    "\n",
    "nest_asyncio.apply()\n",
    "\n",
    "async def main():\n",
    "    agent = Agent(\n",
    "        task=\"Go to Swiggy and change the location\",\n",
    "        llm=ChatOpenAI(model=\"gpt-4o\",),\n",
    "    )\n",
    "    result = await agent.run()\n",
    "    print(result)\n",
    "    last_done_textxx = result.all_model_outputs[-1]['done']['text']\n",
    "    print(last_done_textxx)\n",
    "    last_done_text = result.all_results[-1].extracted_content\n",
    "    print(last_done_text)\n",
    "asyncio.run(main())"
   ]
  },
  {
   "cell_type": "code",
   "execution_count": null,
   "metadata": {},
   "outputs": [],
   "source": []
  }
 ],
 "metadata": {
  "kernelspec": {
   "display_name": "local-llm (3.13.2)",
   "language": "python",
   "name": "python3"
  },
  "language_info": {
   "codemirror_mode": {
    "name": "ipython",
    "version": 3
   },
   "file_extension": ".py",
   "mimetype": "text/x-python",
   "name": "python",
   "nbconvert_exporter": "python",
   "pygments_lexer": "ipython3",
   "version": "3.13.2"
  }
 },
 "nbformat": 4,
 "nbformat_minor": 2
}
